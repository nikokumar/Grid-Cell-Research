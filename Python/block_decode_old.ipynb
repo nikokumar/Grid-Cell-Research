{
  "cells": [
    {
      "cell_type": "markdown",
      "metadata": {
        "id": "UrUox0wxh9t3"
      },
      "source": [
        "Getting the data"
      ]
    },
    {
      "cell_type": "code",
      "execution_count": 1,
      "metadata": {
        "colab": {
          "base_uri": "https://localhost:8080/"
        },
        "id": "qys_AoQCiALs",
        "outputId": "a1a08471-1a67-4226-9a38-3954a2b110f8"
      },
      "outputs": [],
      "source": [
        "# ! gdown --id 1nchhS4iewxjLY3zuFmymZAph5jqsZlkU #rat1\n",
        "# ! gdown --id 1ULt0EacAB58zfGl-SY5TzkMaVVkyvn24 #rat1 dataset 2\n",
        "# ! gdown --id 12SIMuoMLHEzEPhXaCn0aek483Dp3raYa #rat2\n",
        "# ! gdown --id 1A2PcN-oYskxhQnT0JH8mDc-gFvPreMvI #rat3\n",
        "# ! gdown --id 1b2i8lTYdgTe4bsTQanx2fZP3VHzXyrvc #rat4"
      ]
    },
    {
      "cell_type": "markdown",
      "metadata": {
        "id": "2YfphOnSiCeg"
      },
      "source": [
        "Running setup"
      ]
    },
    {
      "cell_type": "code",
      "execution_count": 2,
      "metadata": {
        "colab": {
          "base_uri": "https://localhost:8080/"
        },
        "id": "QNntkKgqiHic",
        "outputId": "490c480a-4dbe-4f3b-f764-411e15e7a100"
      },
      "outputs": [],
      "source": [
        "import numpy as np\n",
        "import math\n",
        "from scipy.stats import multivariate_normal\n",
        "import matplotlib.pyplot as plt\n",
        "\n",
        "# from google.colab import drive\n",
        "# drive.mount('/content/gdrive')"
      ]
    },
    {
      "cell_type": "markdown",
      "metadata": {
        "id": "WMv1KD-1iJvh"
      },
      "source": [
        "Which Rat"
      ]
    },
    {
      "cell_type": "code",
      "execution_count": 3,
      "metadata": {
        "id": "4IEMXwIqiLnl"
      },
      "outputs": [],
      "source": [
        "rat = 1\n",
        "\n",
        "path = 'python_format/'\n",
        "if rat == 1:\n",
        "  path = path + 'moserlab_waaga_25843_2019-09-13_22-54-22_v1.npy'\n",
        "elif rat == 11:\n",
        "  path = path + 'moserlab_waaga_26018_2019-12-10_15-25-47_v1.npy'\n",
        "elif rat == 2:\n",
        "  path = path + 'moserlab_waaga_26018_2019-12-14_16-03-44_v1.npy'\n",
        "elif rat == 3:\n",
        "  path = path + 'moserlab_waaga_26718_2020-09-16_17-23-51_v1.npy'\n",
        "elif rat == 4:\n",
        "  path = path + 'moserlab_waaga_26820_2020-11-05_11-03-13_v1.npy'\n",
        "\n",
        "dataset = np.load(path, allow_pickle=True)\n",
        "data = dataset.item()"
      ]
    },
    {
      "cell_type": "markdown",
      "metadata": {
        "id": "FCH_FCzPiN1F"
      },
      "source": [
        "Initial Variables"
      ]
    },
    {
      "cell_type": "code",
      "execution_count": 4,
      "metadata": {
        "id": "pT917u_iiRGy"
      },
      "outputs": [],
      "source": [
        "speed_threshold = 0 #cm/sec, using speed greater than this\n",
        "\n",
        "#Gaussian for tuning curves\n",
        "sig = 5**2 #Gaussian Variance (cm^2)\n",
        "sigma = np.array([[sig, 0],[0,sig]]) # Covariance Matrix\n",
        "\n",
        "rounding = 0 #translates to arena resolution, 10^rounding\n",
        "\n",
        "dt = -1 # when -1 dt is average time between two spikes ~0.008s, else dt is in seconds"
      ]
    },
    {
      "cell_type": "markdown",
      "metadata": {
        "id": "RHLHK2QtiZ8d"
      },
      "source": [
        "Getting the Speed and speed thresholding"
      ]
    },
    {
      "cell_type": "code",
      "execution_count": 13,
      "metadata": {
        "id": "Mr6xVyUsidro"
      },
      "outputs": [],
      "source": [
        "Time = data['task'][1]['tracking']['t'] - data['task'][1]['tracking']['t'][0] #times scaled to start at 0\n",
        "if dt == -1:\n",
        "  dt = np.mean(Time[2:len(Time)-1] - Time[1:len(Time)-2]) # average interval between time points\n",
        "#print(len(Time))\n",
        "x = data['task'][1]['tracking']['x']\n",
        "y = data['task'][1]['tracking']['y']\n",
        "\n",
        "vx = np.gradient(x,dt) #could use the actual time differences, but using dt to sum\n",
        "vy = np.gradient(y,dt)\n",
        "\n",
        "V = np.sqrt((vx**2)+(vy**2))\n",
        "\n",
        "speed = V\n",
        "speed_idc = np.nonzero(speed>=speed_threshold)\n",
        "\n",
        "x_Pos = x[speed_idc]\n",
        "y_Pos = y[speed_idc]\n",
        "Time = Time[speed_idc]"
      ]
    },
    {
      "cell_type": "markdown",
      "metadata": {
        "id": "DYJoQU2Giget"
      },
      "source": [
        "Building the Arena"
      ]
    },
    {
      "cell_type": "code",
      "execution_count": 6,
      "metadata": {
        "id": "jiP4p296iiL-"
      },
      "outputs": [],
      "source": [
        "#building the arena\n",
        "dr = 10**rounding\n",
        "lim = 75 #radius of the area\n",
        "L = 2*lim/dr+1\n",
        "\n",
        "X = np.linspace(-lim,lim,int(L))\n",
        "Y = np.linspace(-lim,lim,int(L))\n",
        "[X,Y] = np.meshgrid(X, Y)\n",
        "\n",
        "\n",
        "# Early attempts to create out of bounds \n",
        "# r = np.sqrt(X**2+Y**2)\n",
        "# R_sq = X**2 + Y**2\n",
        "\n",
        "# r = np.sqrt(X**2+Y**2)\n",
        "# R_sq = X**2 + Y**2\n"
      ]
    },
    {
      "cell_type": "markdown",
      "metadata": {
        "id": "nd8yixDPikp-"
      },
      "source": [
        "Generate the time map"
      ]
    },
    {
      "cell_type": "code",
      "execution_count": 7,
      "metadata": {
        "id": "uN9ya9J8im4s"
      },
      "outputs": [],
      "source": [
        "Time_map = np.zeros((int(L),int(L)))\n",
        "\n",
        "pos = np.empty(X.shape + (2,))\n",
        "pos[:,:,0] = X\n",
        "pos[:,:,1] = Y # create one 3d array for X and Y\n",
        "\n",
        "for k in range(len(Time)):\n",
        "    gaussian = multivariate_normal(mean=[x_Pos[k],y_Pos[k]], cov=sigma)\n",
        "    g_pdf = gaussian.pdf(pos)\n",
        "    #Here they reshape the gaussian but seems uneccesary for python's gaussian\n",
        "    Time_map = Time_map + g_pdf\n",
        "    \n",
        "#print(Time_map)"
      ]
    },
    {
      "cell_type": "markdown",
      "metadata": {
        "id": "sANPekGMiozn"
      },
      "source": [
        "Get Spike Trains"
      ]
    },
    {
      "cell_type": "code",
      "execution_count": 8,
      "metadata": {
        "id": "Qt9pfkjoirEZ"
      },
      "outputs": [],
      "source": [
        "Spike_times = data['task'][1]['spike_timestamp']  # times of very light spike\n",
        "Spike_units = data['task'][1]['spike_cluster_id'] # corresponding cell that fired\n",
        "Time = data['task'][1]['tracking']['t']\n",
        "\n",
        "Time =  Time - Time[0]\n",
        "\n",
        "Units = np.unique(Spike_units) # distinct cells that spike\n",
        "N = len(Units) # number of cells\n",
        "\n",
        "\n",
        "if dt == -1:\n",
        "  dt = np.mean(Time[2:len(Time)-1] - Time[1:len(Time)-2]) # average interval between time points\n",
        "Tp = len(Time) # number of time points\n",
        "\n",
        "ST = np.zeros((N,Tp)) # contains number of spikes for each neuron for each time bin\n",
        "#print(ST.shape)\n",
        "\n",
        "for n in range(N): # for every neuron\n",
        "    u = np.where(Spike_units==Units[n]) #indexes of spikes \n",
        "    st = Spike_times[u] #times of spikes for neuron n\n",
        "    st = st - st[0] #this I added because the first spikes don't begin for so long that it doesn't fit in shape Tp\n",
        "\n",
        "    D = st//dt # D is the list of time bins for each spike of neuron n\n",
        "    # in matlab they set all bins labeled 0 to bin 1, not sure if necessary, only for spikes occuring before one full dt has passed\n",
        "    \n",
        "    for k in range(len(D)):\n",
        "        x = int(D[k])\n",
        "        \n",
        "        ST[n][x]=ST[n][x]+1"
      ]
    },
    {
      "cell_type": "markdown",
      "metadata": {
        "id": "iRGV6VuFixdB"
      },
      "source": [
        "Generate Tuning Curves"
      ]
    },
    {
      "cell_type": "code",
      "execution_count": 14,
      "metadata": {
        "id": "NmWluVdDi0q5"
      },
      "outputs": [],
      "source": [
        "ST = ST[:,speed_idc] # the threshold speed Spike segments\n",
        "ST = np.squeeze(ST)\n",
        "\n",
        "N,temp = ST.shape # N is the number of neurons\n",
        "\n",
        "Tuning_Curves = np.zeros((int(L),int(L),N)) #empty array of tuning curves\n",
        "\n",
        "np.set_printoptions(threshold=np.inf)\n",
        "for n in range(3,4): #for each neuron\n",
        "    rate_map = np.zeros((int(L),int(L)))\n",
        "\n",
        "    st = ST[n,:] # neuron n's spike train\n",
        "    #print(st)\n",
        "    si = np.where(st>0)\n",
        "    spike_indices = si[0]\n",
        "\n",
        "    for ss in range(len(spike_indices)): #for each time the neuron fires ss is the index in spike indices \n",
        "        #print(st.shape)\n",
        "        spike = spike_indices[ss]\n",
        "        #print(spike)\n",
        "        sp = st[spike]\n",
        "        #print(sp.shape)\n",
        "        x_pos = x_Pos[spike_indices[ss]] # x location spike occured\n",
        "        y_pos = y_Pos[spike_indices[ss]] # y location spike occured\n",
        "\n",
        "        for ll in range(int(sp)): #for each spike in the time bucket usually once\n",
        "            gaussian = multivariate_normal(mean=[x_pos,y_pos], cov=sigma)\n",
        "            g_pdf = gaussian.pdf(pos)\n",
        "            #Here they reshape the gaussian but seems uneccesary for python's gaussian\n",
        "\n",
        "            rate_map = rate_map + g_pdf\n",
        "\n",
        "    tc = (1/dt)*(rate_map/Time_map)\n",
        "\n",
        "    for xr in range(int(L)): # this block zeroes out values outside of the arena\n",
        "        for yr in range(int(L)):\n",
        "            if (xr-lim)**2+(yr-lim)**2 > lim**2:\n",
        "                tc[xr,yr]=0\n",
        "\n",
        "    Tuning_Curves[:,:,n]=tc"
      ]
    },
    {
      "cell_type": "code",
      "execution_count": 15,
      "metadata": {},
      "outputs": [
        {
          "data": {
            "text/plain": [
              "<matplotlib.image.AxesImage at 0x2090fed0580>"
            ]
          },
          "execution_count": 15,
          "metadata": {},
          "output_type": "execute_result"
        },
        {
          "data": {
            "image/png": "[encoded data removed]",
            "text/plain": [
              "<Figure size 432x288 with 1 Axes>"
            ]
          },
          "metadata": {
            "needs_background": "light"
          },
          "output_type": "display_data"
        }
      ],
      "source": [
        "plt.imshow(Tuning_Curves[:,:,3], cmap='hot')"
      ]
    },
    {
      "cell_type": "markdown",
      "metadata": {
        "id": "xuuN514mubQp"
      },
      "source": [
        "rat 1 M1 indices"
      ]
    },
    {
      "cell_type": "code",
      "execution_count": 10,
      "metadata": {
        "id": "g61kiBE0uh2r"
      },
      "outputs": [],
      "source": [
        "M1_indices = [3,8,9,10,12,21,23,25,30,33,35,36,39,40,41,43,44,165,168,181,184,185,186,187,188,191,195,197,201,204,205,208,210,211,213,214,215,216,217,221,222,224]\n"
      ]
    },
    {
      "cell_type": "markdown",
      "metadata": {
        "id": "BRqVIw7sukgA"
      },
      "source": [
        "Getting frames for decoding"
      ]
    },
    {
      "cell_type": "code",
      "execution_count": 11,
      "metadata": {
        "colab": {
          "base_uri": "https://localhost:8080/",
          "height": 235
        },
        "id": "PlPcFMZiuwZA",
        "outputId": "fee7514e-ed66-4b94-ab29-b4994e87373f"
      },
      "outputs": [
        {
          "ename": "MemoryError",
          "evalue": "Unable to allocate 74.2 GiB for an array with shape (151, 151, 436879) and data type float64",
          "output_type": "error",
          "traceback": [
            "\u001b[1;31m---------------------------------------------------------------------------\u001b[0m",
            "\u001b[1;31mMemoryError\u001b[0m                               Traceback (most recent call last)",
            "\u001b[1;32mc:\\Users\\Niko\\Desktop\\_School\\UT\\NEUReasearch\\Python\\block_decode.ipynb Cell 22'\u001b[0m in \u001b[0;36m<module>\u001b[1;34m\u001b[0m\n\u001b[0;32m      <a href='vscode-notebook-cell:/c%3A/Users/Niko/Desktop/_School/UT/NEUReasearch/Python/block_decode.ipynb#ch0000021?line=0'>1</a>\u001b[0m \u001b[39m#frames = an array of L,L,len(Time)\u001b[39;00m\n\u001b[1;32m----> <a href='vscode-notebook-cell:/c%3A/Users/Niko/Desktop/_School/UT/NEUReasearch/Python/block_decode.ipynb#ch0000021?line=1'>2</a>\u001b[0m frames \u001b[39m=\u001b[39m np\u001b[39m.\u001b[39;49mzeros((\u001b[39mint\u001b[39;49m(L),\u001b[39mint\u001b[39;49m(L),\u001b[39mlen\u001b[39;49m(Time)), dtype\u001b[39m=\u001b[39;49m\u001b[39mfloat\u001b[39;49m)\n\u001b[0;32m      <a href='vscode-notebook-cell:/c%3A/Users/Niko/Desktop/_School/UT/NEUReasearch/Python/block_decode.ipynb#ch0000021?line=2'>3</a>\u001b[0m \u001b[39mprint\u001b[39m(frames\u001b[39m.\u001b[39mshape)\n\u001b[0;32m      <a href='vscode-notebook-cell:/c%3A/Users/Niko/Desktop/_School/UT/NEUReasearch/Python/block_decode.ipynb#ch0000021?line=3'>4</a>\u001b[0m \u001b[39mfor\u001b[39;00m t \u001b[39min\u001b[39;00m \u001b[39mrange\u001b[39m(\u001b[39mlen\u001b[39m(Time)):\u001b[39m#for each time window\u001b[39;00m\n",
            "\u001b[1;31mMemoryError\u001b[0m: Unable to allocate 74.2 GiB for an array with shape (151, 151, 436879) and data type float64"
          ]
        }
      ],
      "source": [
        "#frames = an array of L,L,len(Time)\n",
        "frames = np.zeros((int(L),int(L),len(Time)), dtype=float)\n",
        "print(frames.shape)\n",
        "for t in range(len(Time)):#for each time window\n",
        "    frame = np.zeros((int(L),int(L))) #frame = array of L,L\n",
        "    for n in range(len(M1_indices)):#for each neuron in M1\n",
        "        if ST[M1_indices[n],t] >0: #if there is a spike in this bin \n",
        "            for spike in range(int(ST[M1_indices[n],t])):\n",
        "                #get the specific tuning curve for that neuron\n",
        "                tc = Tuning_Curves[:,:,M1_indices[n]] \n",
        "                frame = frame + tc\n",
        "\n",
        "    frames[:,:,t] = frame\n",
        "\n",
        "            #for the number of times it spikes\n",
        "                #add the tuning curve to "
      ]
    }
  ],
  "metadata": {
    "colab": {
      "collapsed_sections": [],
      "name": "block_decode.ipynb",
      "provenance": []
    },
    "kernelspec": {
      "display_name": "Python 3.9.13 64-bit (windows store)",
      "language": "python",
      "name": "python3"
    },
    "language_info": {
      "codemirror_mode": {
        "name": "ipython",
        "version": 3
      },
      "file_extension": ".py",
      "mimetype": "text/x-python",
      "name": "python",
      "nbconvert_exporter": "python",
      "pygments_lexer": "ipython3",
      "version": "3.9.13"
    },
    "vscode": {
      "interpreter": {
        "hash": "88b045f48fb98ad820f2ac8ad788bd1fb7ec708015fc3bedb14d79ee79013910"
      }
    }
  },
  "nbformat": 4,
  "nbformat_minor": 0
}
