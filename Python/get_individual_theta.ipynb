{
  "cells": [
    {
      "cell_type": "markdown",
      "metadata": {
        "id": "HOz7UiiCV03V"
      },
      "source": [
        "Getting the data"
      ]
    },
    {
      "cell_type": "code",
      "execution_count": 4,
      "metadata": {
        "colab": {
          "base_uri": "https://localhost:8080/"
        },
        "id": "KQYVEQ_UV3rA",
        "outputId": "edca45e3-eff7-432d-84a1-17a29815be2e"
      },
      "outputs": [],
      "source": [
        "# ! gdown --id 1nchhS4iewxjLY3zuFmymZAph5jqsZlkU #rat1\n",
        "# ! gdown --id 1ULt0EacAB58zfGl-SY5TzkMaVVkyvn24 #rat1 dataset 2\n",
        "# ! gdown --id 12SIMuoMLHEzEPhXaCn0aek483Dp3raYa #rat2\n",
        "# ! gdown --id 1A2PcN-oYskxhQnT0JH8mDc-gFvPreMvI #rat3\n",
        "# ! gdown --id 1b2i8lTYdgTe4bsTQanx2fZP3VHzXyrvc #rat4"
      ]
    },
    {
      "cell_type": "markdown",
      "metadata": {
        "id": "p_OGndN5V5s3"
      },
      "source": [
        "Running setup"
      ]
    },
    {
      "cell_type": "code",
      "execution_count": 5,
      "metadata": {
        "colab": {
          "base_uri": "https://localhost:8080/"
        },
        "id": "LJSrdKA9V7NH",
        "outputId": "bcd3b056-bde7-4def-8ab8-105a444785b9"
      },
      "outputs": [],
      "source": [
        "import numpy as np\n",
        "import math\n",
        "from scipy.stats import multivariate_normal\n",
        "import matplotlib.pyplot as plt\n",
        "from statsmodels.graphics.tsaplots import plot_acf\n",
        "\n",
        "# from google.colab import drive\n",
        "# drive.mount('/content/gdrive')"
      ]
    },
    {
      "cell_type": "markdown",
      "metadata": {
        "id": "Vev6GWtRWGSw"
      },
      "source": [
        "Which Rat"
      ]
    },
    {
      "cell_type": "code",
      "execution_count": 6,
      "metadata": {
        "id": "cC3GC1eaWMH7"
      },
      "outputs": [],
      "source": [
        "rat = 1\n",
        "\n",
        "path = 'python_format/'\n",
        "if rat == 1:\n",
        "  path = path + 'moserlab_waaga_25843_2019-09-13_22-54-22_v1.npy'\n",
        "elif rat == 11:\n",
        "  path = path + 'moserlab_waaga_26018_2019-12-10_15-25-47_v1.npy'\n",
        "elif rat == 2:\n",
        "  path = path + 'moserlab_waaga_26018_2019-12-14_16-03-44_v1.npy'\n",
        "elif rat == 3:\n",
        "  path = path + 'moserlab_waaga_26718_2020-09-16_17-23-51_v1.npy'\n",
        "elif rat == 4:\n",
        "  path = path + 'moserlab_waaga_26820_2020-11-05_11-03-13_v1.npy'\n",
        "\n",
        "dataset = np.load(path, allow_pickle=True)\n",
        "data = dataset.item()"
      ]
    },
    {
      "cell_type": "markdown",
      "metadata": {
        "id": "6tGr7Fb5WM1c"
      },
      "source": [
        "Initial Variables"
      ]
    },
    {
      "cell_type": "code",
      "execution_count": 7,
      "metadata": {
        "colab": {
          "base_uri": "https://localhost:8080/"
        },
        "id": "SWKOGOd8WYry",
        "outputId": "fca1dd56-0f68-4368-debf-85aa02b15900"
      },
      "outputs": [
        {
          "name": "stdout",
          "output_type": "stream",
          "text": [
            "1\n"
          ]
        }
      ],
      "source": [
        "speed_threshold = 0 #cm/sec, using speed greater than this\n",
        "\n",
        "\n",
        "\n",
        "rounding = 0 #translates to arena resolution, 10^rounding\n",
        "dr = 10**rounding\n",
        "print(dr)\n",
        "radius = 75 #radius of the area\n",
        "\n",
        "L = 2*radius/dr+1\n",
        "lim = radius\n",
        "#Gaussian for tuning curves\n",
        "sig = ((5)**2) #Gaussian Variance (cm^2)\n",
        "sigma = np.array([[sig, 0],[0,sig]]) # Covariance Matrix\n",
        "\n",
        "dt = -1 # when -1 dt is average time between two spikes ~0.008s, else dt is in seconds"
      ]
    },
    {
      "cell_type": "markdown",
      "metadata": {
        "id": "pArE51WIWWpp"
      },
      "source": [
        "Getting Speed and Speed Thresholding"
      ]
    },
    {
      "cell_type": "code",
      "execution_count": 8,
      "metadata": {
        "id": "11IfI8dIWdvz"
      },
      "outputs": [],
      "source": [
        "Time = data['task'][1]['tracking']['t'] - data['task'][1]['tracking']['t'][0] #times scaled to start at 0\n",
        "if dt == -1:\n",
        "  dt = np.mean(Time[2:len(Time)-1] - Time[1:len(Time)-2])  # average interval between time points\n",
        "#print(len(Time))\n",
        "x = data['task'][1]['tracking']['x']\n",
        "y = data['task'][1]['tracking']['y']\n",
        "\n",
        "vx = np.gradient(x,dt) #could use the actual time differences, but using dt to sum\n",
        "vy = np.gradient(y,dt)\n",
        "\n",
        "V = np.sqrt((vx**2)+(vy**2))\n",
        "\n",
        "speed = V\n",
        "speed_idc = np.nonzero(speed>=speed_threshold)\n",
        "\n",
        "x_Pos = x[speed_idc]\n",
        "y_Pos = y[speed_idc]\n",
        "Time = Time[speed_idc]"
      ]
    },
    {
      "cell_type": "markdown",
      "metadata": {
        "id": "UvPWG7RaWjrG"
      },
      "source": [
        "Building the Arena"
      ]
    },
    {
      "cell_type": "code",
      "execution_count": 9,
      "metadata": {
        "id": "asHu8_PXWmEg"
      },
      "outputs": [],
      "source": [
        "#building the arena\n",
        "\n",
        "\n",
        "X = np.linspace(-radius,radius,int(L))\n",
        "Y = np.linspace(-radius,radius,int(L))\n",
        "[X,Y] = np.meshgrid(X, Y)\n",
        "\n",
        "pos = np.empty(X.shape + (2,))\n",
        "pos[:,:,0] = X\n",
        "pos[:,:,1] = Y \n",
        "\n",
        "\n",
        "# Early attempts to create out of bounds \n",
        "# r = np.sqrt(X**2+Y**2)\n",
        "# R_sq = X**2 + Y**2\n",
        "\n",
        "# r = np.sqrt(X**2+Y**2)\n",
        "# R_sq = X**2 + Y**2\n"
      ]
    },
    {
      "cell_type": "markdown",
      "metadata": {
        "id": "MfnC7izMWoSw"
      },
      "source": [
        "Generate Time Map"
      ]
    },
    {
      "cell_type": "code",
      "execution_count": 10,
      "metadata": {
        "id": "cKkzH95SWrMF"
      },
      "outputs": [],
      "source": [
        "Time_map = np.zeros((int(L),int(L)))\n",
        "\n",
        "# create one 3d array for X and Y\n",
        "\n",
        "for k in range(len(Time)):\n",
        "    gaussian = multivariate_normal(mean=[x_Pos[k],y_Pos[k]], cov=sigma)\n",
        "    g_pdf = gaussian.pdf(pos)\n",
        "    #Here they reshape the gaussian but seems uneccesary for python's gaussian\n",
        "    Time_map = Time_map + g_pdf\n",
        "    \n",
        "#print(Time_map)"
      ]
    },
    {
      "cell_type": "markdown",
      "metadata": {
        "id": "cazBsJgoWs6l"
      },
      "source": [
        "Get Spike Trains"
      ]
    },
    {
      "cell_type": "code",
      "execution_count": 11,
      "metadata": {
        "colab": {
          "base_uri": "https://localhost:8080/"
        },
        "id": "E-ej0_DzWxsb",
        "outputId": "47e3a92f-1e5c-4ed0-d072-0f1c0a852bba"
      },
      "outputs": [
        {
          "name": "stdout",
          "output_type": "stream",
          "text": [
            "0.008336388232868228\n",
            "436879\n",
            "436879\n",
            "3641.98459456443\n"
          ]
        }
      ],
      "source": [
        "Spike_times = data['task'][1]['spike_timestamp']  # times of very light spike\n",
        "Spike_units = data['task'][1]['spike_cluster_id'] # corresponding cell that fired\n",
        "Time = data['task'][1]['tracking']['t']\n",
        "\n",
        "Time =  Time - Time[0]\n",
        "\n",
        "Units = np.unique(Spike_units) # distinct cells that spike\n",
        "N = len(Units) # number of cells\n",
        "\n",
        "\n",
        "if dt == -1:\n",
        "  dt = np.mean(Time[2:len(Time)-1] - Time[1:len(Time)-2]) # average interval between time points\n",
        "Tp = len(Time) # number of time points or total time divided by window size\n",
        "print(dt)\n",
        "print(Tp)\n",
        "print(len(Time))\n",
        "print(Time[-1])\n",
        "\n",
        "ST = np.zeros((N,int(Tp)+1)) # contains number of spikes for each neuron for each time bin +1 so last bin exists\n",
        "#print(ST.shape)\n",
        "\n",
        "for n in range(N): # for every neuron\n",
        "    u = np.where(Spike_units==Units[n]) #indexes of spikes \n",
        "    st = Spike_times[u] #times of spikes for neuron n\n",
        "    st = st - st[0] #this I added because the first spikes don't begin for so long that it doesn't fit in shape Tp\n",
        "    #print(st)\n",
        "\n",
        "    D = st/dt # D is the list of time bins for each spike of neuron n\n",
        "\n",
        "    #print(D)\n",
        "    # in matlab they set all bins labeled 0 to bin 1, not sure if necessary, only for spikes occuring before one full dt has passed\n",
        "    \n",
        "    for k in range(len(D)):\n",
        "        x = int(D[k])\n",
        "        #print(x)\n",
        "        ST[n][x]=ST[n][x]+1"
      ]
    },
    {
      "cell_type": "markdown",
      "metadata": {
        "id": "yaVOmvX5X95s"
      },
      "source": [
        "Autocorrelation Function"
      ]
    },
    {
      "cell_type": "code",
      "execution_count": 12,
      "metadata": {
        "id": "SsJ47J3GYMyN"
      },
      "outputs": [
        {
          "data": {
            "image/png": "[encoded data removed]",
            "text/plain": [
              "<Figure size 432x288 with 1 Axes>"
            ]
          },
          "metadata": {
            "needs_background": "light"
          },
          "output_type": "display_data"
        },
        {
          "data": {
            "image/png": "[encoded data removed]",
            "text/plain": [
              "<Figure size 432x288 with 1 Axes>"
            ]
          },
          "metadata": {
            "needs_background": "light"
          },
          "output_type": "display_data"
        },
        {
          "data": {
            "image/png": "[encoded data removed]",
            "text/plain": [
              "<Figure size 432x288 with 1 Axes>"
            ]
          },
          "metadata": {
            "needs_background": "light"
          },
          "output_type": "display_data"
        },
        {
          "data": {
            "image/png": "[encoded data removed]",
            "text/plain": [
              "<Figure size 432x288 with 1 Axes>"
            ]
          },
          "metadata": {
            "needs_background": "light"
          },
          "output_type": "display_data"
        }
      ],
      "source": [
        "M1_indices = [3,8,9,10,12,21,23,25,30,33,35,36,39,40,41,43,44,165,168,181,184,185,186,187,188,191,195,197,201,204,205,208,210,211,213,214,215,216,217,221,222,224]\n",
        "\n",
        "ST_M1 = ST[M1_indices,:]\n",
        "\n",
        "for i in range(4):\n",
        "    plot_acf(ST_M1[i,:], lags = 25)"
      ]
    }
  ],
  "metadata": {
    "colab": {
      "name": "get_individual_theta.ipynb",
      "provenance": []
    },
    "kernelspec": {
      "display_name": "Python 3.9.13 64-bit (windows store)",
      "language": "python",
      "name": "python3"
    },
    "language_info": {
      "codemirror_mode": {
        "name": "ipython",
        "version": 3
      },
      "file_extension": ".py",
      "mimetype": "text/x-python",
      "name": "python",
      "nbconvert_exporter": "python",
      "pygments_lexer": "ipython3",
      "version": "3.9.13"
    },
    "vscode": {
      "interpreter": {
        "hash": "88b045f48fb98ad820f2ac8ad788bd1fb7ec708015fc3bedb14d79ee79013910"
      }
    }
  },
  "nbformat": 4,
  "nbformat_minor": 0
}
